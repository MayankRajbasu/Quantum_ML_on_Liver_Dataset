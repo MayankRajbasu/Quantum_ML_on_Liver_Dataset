{
 "cells": [
  {
   "cell_type": "code",
   "execution_count": 1,
   "id": "04a3afd6-b995-42b7-a427-0427c744ff0f",
   "metadata": {},
   "outputs": [
    {
     "data": {
      "text/html": [
       "<div>\n",
       "<style scoped>\n",
       "    .dataframe tbody tr th:only-of-type {\n",
       "        vertical-align: middle;\n",
       "    }\n",
       "\n",
       "    .dataframe tbody tr th {\n",
       "        vertical-align: top;\n",
       "    }\n",
       "\n",
       "    .dataframe thead th {\n",
       "        text-align: right;\n",
       "    }\n",
       "</style>\n",
       "<table border=\"1\" class=\"dataframe\">\n",
       "  <thead>\n",
       "    <tr style=\"text-align: right;\">\n",
       "      <th></th>\n",
       "      <th>Age</th>\n",
       "      <th>Gender</th>\n",
       "      <th>TB</th>\n",
       "      <th>DB</th>\n",
       "      <th>Alkphos</th>\n",
       "      <th>Sgpt</th>\n",
       "      <th>Sgot</th>\n",
       "      <th>TP</th>\n",
       "      <th>ALB</th>\n",
       "      <th>A/G Ratio</th>\n",
       "      <th>Selector</th>\n",
       "    </tr>\n",
       "  </thead>\n",
       "  <tbody>\n",
       "    <tr>\n",
       "      <th>0</th>\n",
       "      <td>65</td>\n",
       "      <td>0</td>\n",
       "      <td>0.7</td>\n",
       "      <td>0.1</td>\n",
       "      <td>187</td>\n",
       "      <td>16</td>\n",
       "      <td>18</td>\n",
       "      <td>6.8</td>\n",
       "      <td>3.3</td>\n",
       "      <td>0.90</td>\n",
       "      <td>1</td>\n",
       "    </tr>\n",
       "    <tr>\n",
       "      <th>1</th>\n",
       "      <td>62</td>\n",
       "      <td>1</td>\n",
       "      <td>10.9</td>\n",
       "      <td>5.5</td>\n",
       "      <td>699</td>\n",
       "      <td>64</td>\n",
       "      <td>100</td>\n",
       "      <td>7.5</td>\n",
       "      <td>3.2</td>\n",
       "      <td>0.74</td>\n",
       "      <td>1</td>\n",
       "    </tr>\n",
       "    <tr>\n",
       "      <th>2</th>\n",
       "      <td>62</td>\n",
       "      <td>1</td>\n",
       "      <td>7.3</td>\n",
       "      <td>4.1</td>\n",
       "      <td>490</td>\n",
       "      <td>60</td>\n",
       "      <td>68</td>\n",
       "      <td>7.0</td>\n",
       "      <td>3.3</td>\n",
       "      <td>0.89</td>\n",
       "      <td>1</td>\n",
       "    </tr>\n",
       "    <tr>\n",
       "      <th>3</th>\n",
       "      <td>58</td>\n",
       "      <td>1</td>\n",
       "      <td>1.0</td>\n",
       "      <td>0.4</td>\n",
       "      <td>182</td>\n",
       "      <td>14</td>\n",
       "      <td>20</td>\n",
       "      <td>6.8</td>\n",
       "      <td>3.4</td>\n",
       "      <td>1.00</td>\n",
       "      <td>1</td>\n",
       "    </tr>\n",
       "    <tr>\n",
       "      <th>4</th>\n",
       "      <td>72</td>\n",
       "      <td>1</td>\n",
       "      <td>3.9</td>\n",
       "      <td>2.0</td>\n",
       "      <td>195</td>\n",
       "      <td>27</td>\n",
       "      <td>59</td>\n",
       "      <td>7.3</td>\n",
       "      <td>2.4</td>\n",
       "      <td>0.40</td>\n",
       "      <td>1</td>\n",
       "    </tr>\n",
       "  </tbody>\n",
       "</table>\n",
       "</div>"
      ],
      "text/plain": [
       "   Age   Gender    TB   DB  Alkphos  Sgpt  Sgot   TP  ALB  A/G Ratio  Selector\n",
       "0    65       0   0.7  0.1      187    16    18  6.8  3.3       0.90         1\n",
       "1    62       1  10.9  5.5      699    64   100  7.5  3.2       0.74         1\n",
       "2    62       1   7.3  4.1      490    60    68  7.0  3.3       0.89         1\n",
       "3    58       1   1.0  0.4      182    14    20  6.8  3.4       1.00         1\n",
       "4    72       1   3.9  2.0      195    27    59  7.3  2.4       0.40         1"
      ]
     },
     "execution_count": 1,
     "metadata": {},
     "output_type": "execute_result"
    }
   ],
   "source": [
    "#Necessary Import\n",
    "import numpy as np\n",
    "import pandas as pd\n",
    "import time\n",
    "\n",
    "import pennylane as qml\n",
    "from pennylane.templates import StronglyEntanglingLayers\n",
    "\n",
    "from imblearn.over_sampling import SMOTE\n",
    "from sklearn.model_selection import train_test_split\n",
    "from sklearn.preprocessing import StandardScaler\n",
    "from sklearn.metrics import accuracy_score\n",
    "\n",
    "# Load the dataset\n",
    "data = pd.read_csv(\"Cleaned_data.csv\")\n",
    "data.head()"
   ]
  },
  {
   "cell_type": "code",
   "execution_count": 2,
   "id": "808956e7-5c5c-46d6-9890-d1369e13272b",
   "metadata": {},
   "outputs": [],
   "source": [
    "# Split the dataset into features (X) and labels (y)\n",
    "X = data.drop(\"Selector\", axis=1).values\n",
    "y = data[\"Selector\"].values\n",
    "\n",
    "# Standardize the features\n",
    "scaler = StandardScaler()\n",
    "X_scaled = scaler.fit_transform(X)\n",
    "\n",
    "# Split the dataset into training and testing sets\n",
    "X_train, X_test, y_train, y_test = train_test_split(X_scaled, y, test_size=0.2, random_state=42)\n",
    "\n",
    "# Smote Training\n",
    "smote = SMOTE(random_state=42)\n",
    "X_resampled, y_resampled = smote.fit_resample(X , y)\n",
    "X_train_resampled, X_test_resampled, y_train_resampled, y_test_resampled = train_test_split(X_resampled, y_resampled, test_size=0.25, random_state=42)"
   ]
  },
  {
   "cell_type": "code",
   "execution_count": 3,
   "id": "94a8d048-95da-40a9-b8af-3459d629e14c",
   "metadata": {},
   "outputs": [
    {
     "name": "stderr",
     "output_type": "stream",
     "text": [
      "C:\\Python312\\Lib\\site-packages\\pennylane\\_grad.py:157: UserWarning: Attempted to differentiate a function with no trainable parameters. If this is unintended, please add trainable parameters via the 'requires_grad' attribute or 'argnum' keyword.\n",
      "  warnings.warn(\n"
     ]
    },
    {
     "name": "stdout",
     "output_type": "stream",
     "text": [
      "Training time: 36 seconds\n"
     ]
    }
   ],
   "source": [
    "# Define the number of qubits and layers for the QNN\n",
    "num_qubits = X.shape[1]\n",
    "num_layers = 3\n",
    "\n",
    "# Define the quantum device\n",
    "# Initialize the quantum device and QNode\n",
    "\n",
    "# dev = qml.device(\"default.qubit\",wires=num_qubits)\n",
    "dev = qml.device(\"braket.local.qubit\",wires=num_qubits)\n",
    "\n",
    "# Define the quantum circuit\n",
    "def quantum_neural_net(weights, inputs):\n",
    "    qml.templates.AngleEmbedding(inputs, wires=range(num_qubits))\n",
    "    qml.templates.StronglyEntanglingLayers(weights, wires=range(num_qubits))\n",
    "    return [qml.expval(qml.PauliZ(wires=i)) for i in range(num_qubits)]\n",
    "\n",
    "# Define the QNN\n",
    "@qml.qnode(dev)\n",
    "def qnn_circuit(weights, inputs):\n",
    "    return quantum_neural_net(weights, inputs)\n",
    "\n",
    "# Initialize QNN weights\n",
    "weights = np.random.random(size=(num_layers, num_qubits, 3))\n",
    "\n",
    "# Define the QNN cost function\n",
    "def cost_fn(weights, inputs, targets):\n",
    "    predictions = qnn_circuit(weights, inputs)\n",
    "    return np.mean((predictions - targets) ** 2)\n",
    "\n",
    "# Define the QNN optimizer\n",
    "optimizer = qml.AdamOptimizer()\n",
    "\n",
    "# Train the QNN\n",
    "num_epochs = 100\n",
    "batch_size = 5\n",
    "start = time.time()\n",
    "for epoch in range(num_epochs):\n",
    "    # Randomly select a batch of samples\n",
    "    batch_idx = np.random.randint(0, len(X_train_resampled), (batch_size,))\n",
    "    X_batch = X_train_resampled[batch_idx]\n",
    "    y_batch = y_train_resampled[batch_idx]\n",
    "    \n",
    "    # Compute gradients and update weights\n",
    "    weights = optimizer.step(lambda w: cost_fn(w, X_batch, y_batch), weights)\n",
    "elapsed = time.time() - start\n",
    "print(f\"Training time: {round(elapsed)} seconds\")"
   ]
  },
  {
   "cell_type": "code",
   "execution_count": 4,
   "id": "7d5f02b3-4869-4e88-82e1-4d345d9a1930",
   "metadata": {},
   "outputs": [
    {
     "name": "stdout",
     "output_type": "stream",
     "text": [
      "Train accuracy: 0.6351931330472103\n",
      "Test accuracy: 0.6752136752136753\n"
     ]
    }
   ],
   "source": [
    "# Evaluate the trained QNN\n",
    "predictions_train = [np.sign(qnn_circuit(weights, x)) for x in X_train]\n",
    "predictions_test = [np.sign(qnn_circuit(weights, x)) for x in X_test]\n",
    "\n",
    "# Convert model predictions to binary labels based on the threshold\n",
    "predictions_train = [1 if np.mean(pred) >= 0 else 2 for pred in predictions_train]\n",
    "predictions_test = [1 if np.mean(pred) >= 0 else 2 for pred in predictions_test]\n",
    "\n",
    "accuracy_train = accuracy_score(y_train, predictions_train)\n",
    "accuracy_test = accuracy_score(y_test, predictions_test)\n",
    "\n",
    "print(\"Train accuracy:\", accuracy_train)\n",
    "print(\"Test accuracy:\", accuracy_test)"
   ]
  },
  {
   "cell_type": "code",
   "execution_count": 5,
   "id": "f1e8f102-8a33-4569-b2f2-67da0eef28b4",
   "metadata": {},
   "outputs": [
    {
     "name": "stdout",
     "output_type": "stream",
     "text": [
      "              precision    recall  f1-score   support\n",
      "\n",
      "           1       0.75      0.85      0.80        87\n",
      "           2       0.28      0.17      0.21        30\n",
      "\n",
      "    accuracy                           0.68       117\n",
      "   macro avg       0.51      0.51      0.50       117\n",
      "weighted avg       0.63      0.68      0.65       117\n",
      "\n"
     ]
    }
   ],
   "source": [
    "from sklearn.metrics import classification_report\n",
    "print(classification_report(y_test, predictions_test))"
   ]
  },
  {
   "cell_type": "code",
   "execution_count": null,
   "id": "26a44031-38c5-4257-9faf-ed76beb9cd8f",
   "metadata": {},
   "outputs": [],
   "source": []
  }
 ],
 "metadata": {
  "kernelspec": {
   "display_name": "Python 3 (ipykernel)",
   "language": "python",
   "name": "python3"
  },
  "language_info": {
   "codemirror_mode": {
    "name": "ipython",
    "version": 3
   },
   "file_extension": ".py",
   "mimetype": "text/x-python",
   "name": "python",
   "nbconvert_exporter": "python",
   "pygments_lexer": "ipython3",
   "version": "3.12.1"
  }
 },
 "nbformat": 4,
 "nbformat_minor": 5
}
