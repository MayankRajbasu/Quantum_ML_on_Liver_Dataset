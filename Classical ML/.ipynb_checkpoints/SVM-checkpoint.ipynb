{
 "cells": [
  {
   "cell_type": "code",
   "execution_count": 1,
   "metadata": {},
   "outputs": [],
   "source": [
    "import pandas as pd\n",
    "import numpy as np\n",
    "from sklearn.preprocessing import LabelEncoder\n",
    "\n",
    "from sklearn.svm import SVC\n",
    "from sklearn.neighbors import KNeighborsClassifier\n",
    "from sklearn.model_selection import train_test_split\n",
    "from sklearn.metrics import accuracy_score,classification_report"
   ]
  },
  {
   "cell_type": "code",
   "execution_count": 2,
   "metadata": {},
   "outputs": [],
   "source": [
    "file_path=\"D:/Github_local/Quantum_ML_mini_project/Classical ML/Cleaned_data.csv\"\n",
    "df=pd.read_csv(file_path)"
   ]
  },
  {
   "cell_type": "code",
   "execution_count": 3,
   "metadata": {},
   "outputs": [
    {
     "name": "stdout",
     "output_type": "stream",
     "text": [
      "(437, 10) (146, 10) (437,) (146,)\n"
     ]
    }
   ],
   "source": [
    "#Split the data into predictor variables and target variable, following by breaking them into train and test sets. \n",
    "Y = df['Selector'].values\n",
    "X = df.drop(['Selector'], axis=1).values\n",
    "X_train, X_test, Y_train, Y_test = train_test_split (X, Y, test_size = 0.25)\n",
    "print(X_train.shape, X_test.shape, Y_train.shape, Y_test.shape)"
   ]
  },
  {
   "cell_type": "code",
   "execution_count": 4,
   "metadata": {},
   "outputs": [
    {
     "name": "stdout",
     "output_type": "stream",
     "text": [
      "Accuracy score: 0.726027397260274\n",
      "Classification report:\n",
      "               precision    recall  f1-score   support\n",
      "\n",
      "           1       0.73      1.00      0.84       106\n",
      "           2       1.00      0.00      0.00        40\n",
      "\n",
      "    accuracy                           0.73       146\n",
      "   macro avg       0.86      0.50      0.42       146\n",
      "weighted avg       0.80      0.73      0.61       146\n",
      "\n"
     ]
    }
   ],
   "source": [
    "model = SVC()\n",
    "model.fit(X_train, Y_train)\n",
    "predictions = model.predict(X_test)\n",
    "\n",
    "print(\"Accuracy score:\",accuracy_score(Y_test, predictions))\n",
    "print(\"Classification report:\\n\",classification_report(Y_test, predictions,zero_division=1)) "
   ]
  },
  {
   "cell_type": "markdown",
   "metadata": {},
   "source": [
    "SVM after PCA"
   ]
  },
  {
   "cell_type": "code",
   "execution_count": 5,
   "metadata": {},
   "outputs": [],
   "source": [
    "file_path=\"D:/Github_local/Quantum_ML_mini_project/EDA/feature_pca.csv\"\n",
    "feature=pd.read_csv(file_path,header=None)"
   ]
  },
  {
   "cell_type": "code",
   "execution_count": 6,
   "metadata": {},
   "outputs": [],
   "source": [
    "xpca_train, xpca_test, Y_train, Y_test = train_test_split (feature, Y, test_size = 0.25)\n",
    "\n",
    "model = SVC()\n",
    "model.fit(xpca_train, Y_train)\n",
    "predictions = model.predict(xpca_test)"
   ]
  },
  {
   "cell_type": "code",
   "execution_count": 7,
   "metadata": {},
   "outputs": [
    {
     "name": "stdout",
     "output_type": "stream",
     "text": [
      "Accuracy score: 0.7123287671232876\n",
      "Classification report:\n",
      "               precision    recall  f1-score   support\n",
      "\n",
      "           1       0.73      0.97      0.83       106\n",
      "           2       0.25      0.03      0.05        40\n",
      "\n",
      "    accuracy                           0.71       146\n",
      "   macro avg       0.49      0.50      0.44       146\n",
      "weighted avg       0.60      0.71      0.62       146\n",
      "\n"
     ]
    }
   ],
   "source": [
    "print(\"Accuracy score:\",accuracy_score(Y_test, predictions))\n",
    "print(\"Classification report:\\n\",classification_report(Y_test, predictions,zero_division=1)) "
   ]
  },
  {
   "cell_type": "markdown",
   "metadata": {},
   "source": [
    "SVM after SMOTE"
   ]
  },
  {
   "cell_type": "code",
   "execution_count": 8,
   "metadata": {},
   "outputs": [],
   "source": [
    "file_path=\"D:/Github_local/Quantum_ML_mini_project/EDA/feature_smote_test.csv\"\n",
    "test=pd.read_csv(file_path,header=None)\n",
    "\n",
    "file_path=\"D:/Github_local/Quantum_ML_mini_project/EDA/feature_smote_train.csv\"\n",
    "train=pd.read_csv(file_path,header=None)\n",
    "\n",
    "file_path=\"D:/Github_local/Quantum_ML_mini_project/EDA/label_smote_test.csv\"\n",
    "labeltest=pd.read_csv(file_path,header=None)\n",
    "\n",
    "file_path=\"D:/Github_local/Quantum_ML_mini_project/EDA/label_smote_train.csv\"\n",
    "labeltrain=pd.read_csv(file_path,header=None)"
   ]
  },
  {
   "cell_type": "code",
   "execution_count": 9,
   "metadata": {},
   "outputs": [
    {
     "name": "stderr",
     "output_type": "stream",
     "text": [
      "c:\\Python312\\Lib\\site-packages\\sklearn\\utils\\validation.py:1300: DataConversionWarning: A column-vector y was passed when a 1d array was expected. Please change the shape of y to (n_samples, ), for example using ravel().\n",
      "  y = column_or_1d(y, warn=True)\n"
     ]
    }
   ],
   "source": [
    "xsmote_test = test\n",
    "xsmote_train = train\n",
    "ysmote_test = labeltest\n",
    "ysmote_train = labeltrain\n",
    "\n",
    "model = SVC()\n",
    "model.fit(xsmote_train, ysmote_train)\n",
    "predictions = model.predict(xsmote_test)\n"
   ]
  },
  {
   "cell_type": "code",
   "execution_count": 10,
   "metadata": {},
   "outputs": [
    {
     "name": "stdout",
     "output_type": "stream",
     "text": [
      "Accuracy score: 0.7211538461538461\n",
      "Classification report:\n",
      "               precision    recall  f1-score   support\n",
      "\n",
      "         1.0       0.82      0.52      0.64        98\n",
      "         2.0       0.68      0.90      0.77       110\n",
      "\n",
      "    accuracy                           0.72       208\n",
      "   macro avg       0.75      0.71      0.71       208\n",
      "weighted avg       0.75      0.72      0.71       208\n",
      "\n"
     ]
    }
   ],
   "source": [
    "print(\"Accuracy score:\",accuracy_score(ysmote_test, predictions))\n",
    "print(\"Classification report:\\n\",classification_report(ysmote_test, predictions,zero_division=1)) "
   ]
  }
 ],
 "metadata": {
  "kernelspec": {
   "display_name": "Python 3",
   "language": "python",
   "name": "python3"
  },
  "language_info": {
   "codemirror_mode": {
    "name": "ipython",
    "version": 3
   },
   "file_extension": ".py",
   "mimetype": "text/x-python",
   "name": "python",
   "nbconvert_exporter": "python",
   "pygments_lexer": "ipython3",
   "version": "3.12.1"
  }
 },
 "nbformat": 4,
 "nbformat_minor": 2
}
