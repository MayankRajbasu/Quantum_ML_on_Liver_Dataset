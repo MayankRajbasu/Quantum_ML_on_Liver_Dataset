{
 "cells": [
  {
   "cell_type": "code",
   "execution_count": 1,
   "metadata": {},
   "outputs": [],
   "source": [
    "import pandas as pd\n",
    "import numpy as np\n",
    "from sklearn.preprocessing import LabelEncoder\n",
    "\n",
    "from sklearn.svm import SVC\n",
    "from sklearn.neighbors import KNeighborsClassifier\n",
    "from sklearn.model_selection import train_test_split\n",
    "from sklearn.metrics import accuracy_score,classification_report"
   ]
  },
  {
   "cell_type": "code",
   "execution_count": 14,
   "metadata": {},
   "outputs": [
    {
     "name": "stderr",
     "output_type": "stream",
     "text": [
      "C:\\Users\\manor\\AppData\\Local\\Temp\\ipykernel_20108\\608223860.py:6: FutureWarning: A value is trying to be set on a copy of a DataFrame or Series through chained assignment using an inplace method.\n",
      "The behavior will change in pandas 3.0. This inplace method will never work because the intermediate object on which we are setting values always behaves as a copy.\n",
      "\n",
      "For example, when doing 'df[col].method(value, inplace=True)', try using 'df.method({col: value}, inplace=True)' or df[col] = df[col].method(value) instead, to perform the operation inplace on the original object.\n",
      "\n",
      "\n",
      "  df['A/G Ratio'].fillna(value=df['A/G Ratio'].mean(), inplace=True)\n"
     ]
    }
   ],
   "source": [
    "file_path=\"D:/Github_local/Quantum_ML_mini_project/ILPD.csv\"\n",
    "df=pd.read_csv(file_path)\n",
    "\n",
    "df['Gender']= LabelEncoder().fit_transform(df['Gender'])\n",
    "#filling na value with mean value\n",
    "df['A/G Ratio'].fillna(value=df['A/G Ratio'].mean(), inplace=True)\n",
    "\n",
    "df.head()\n",
    "df.to_csv(\"Cleaned_data.csv\",index=False)"
   ]
  },
  {
   "cell_type": "code",
   "execution_count": 3,
   "metadata": {},
   "outputs": [
    {
     "name": "stdout",
     "output_type": "stream",
     "text": [
      "(437, 10) (146, 10) (437,) (146,)\n"
     ]
    }
   ],
   "source": [
    "#Split the data into predictor variables and target variable, following by breaking them into train and test sets. \n",
    "Y = df['Selector'].values\n",
    "X = df.drop(['Selector'], axis=1).values\n",
    "X_train, X_test, Y_train, Y_test = train_test_split (X, Y, test_size = 0.25)\n",
    "print(X_train.shape, X_test.shape, Y_train.shape, Y_test.shape)"
   ]
  },
  {
   "cell_type": "code",
   "execution_count": 4,
   "metadata": {},
   "outputs": [
    {
     "name": "stdout",
     "output_type": "stream",
     "text": [
      "Accuracy score: 0.6917808219178082\n",
      "Classification report:\n",
      "               precision    recall  f1-score   support\n",
      "\n",
      "           1       0.77      0.84      0.80       110\n",
      "           2       0.33      0.25      0.29        36\n",
      "\n",
      "    accuracy                           0.69       146\n",
      "   macro avg       0.55      0.54      0.54       146\n",
      "weighted avg       0.66      0.69      0.68       146\n",
      "\n"
     ]
    }
   ],
   "source": [
    "model = KNeighborsClassifier(n_neighbors=5)\n",
    "model.fit(X_train, Y_train)\n",
    "predictions = model.predict(X_test)\n",
    "\n",
    "print(\"Accuracy score:\",accuracy_score(Y_test, predictions))\n",
    "print(\"Classification report:\\n\",classification_report(Y_test, predictions)) "
   ]
  },
  {
   "cell_type": "markdown",
   "metadata": {},
   "source": [
    "KNN after PCA"
   ]
  },
  {
   "cell_type": "code",
   "execution_count": 5,
   "metadata": {},
   "outputs": [],
   "source": [
    "file_path=\"D:/Github_local/Quantum_ML_mini_project/EDA/feature_pca.csv\"\n",
    "feature=pd.read_csv(file_path,header=None)\n"
   ]
  },
  {
   "cell_type": "code",
   "execution_count": 7,
   "metadata": {},
   "outputs": [],
   "source": [
    "xpca_train, xpca_test, Y_train, Y_test = train_test_split (feature, Y, test_size = 0.25)\n",
    "\n",
    "model = KNeighborsClassifier(n_neighbors=5)\n",
    "model.fit(xpca_train, Y_train)\n",
    "predictions = model.predict(xpca_test)\n"
   ]
  },
  {
   "cell_type": "code",
   "execution_count": 8,
   "metadata": {},
   "outputs": [
    {
     "name": "stdout",
     "output_type": "stream",
     "text": [
      "Accuracy score: 0.6506849315068494\n",
      "Classification report:\n",
      "               precision    recall  f1-score   support\n",
      "\n",
      "           1       0.73      0.78      0.76       102\n",
      "           2       0.41      0.34      0.37        44\n",
      "\n",
      "    accuracy                           0.65       146\n",
      "   macro avg       0.57      0.56      0.56       146\n",
      "weighted avg       0.63      0.65      0.64       146\n",
      "\n"
     ]
    }
   ],
   "source": [
    "\n",
    "print(\"Accuracy score:\",accuracy_score(Y_test, predictions))\n",
    "print(\"Classification report:\\n\",classification_report(Y_test, predictions)) "
   ]
  },
  {
   "cell_type": "markdown",
   "metadata": {},
   "source": [
    "KNN after SMOTE"
   ]
  },
  {
   "cell_type": "code",
   "execution_count": 10,
   "metadata": {},
   "outputs": [],
   "source": [
    "file_path=\"D:/Github_local/Quantum_ML_mini_project/EDA/feature_smote_test.csv\"\n",
    "test=pd.read_csv(file_path,header=None)\n",
    "\n",
    "file_path=\"D:/Github_local/Quantum_ML_mini_project/EDA/feature_smote_train.csv\"\n",
    "train=pd.read_csv(file_path,header=None)\n",
    "\n",
    "file_path=\"D:/Github_local/Quantum_ML_mini_project/EDA/label_smote_test.csv\"\n",
    "labeltest=pd.read_csv(file_path,header=None)\n",
    "\n",
    "file_path=\"D:/Github_local/Quantum_ML_mini_project/EDA/label_smote_train.csv\"\n",
    "labeltrain=pd.read_csv(file_path,header=None)"
   ]
  },
  {
   "cell_type": "code",
   "execution_count": 11,
   "metadata": {},
   "outputs": [
    {
     "name": "stderr",
     "output_type": "stream",
     "text": [
      "c:\\Python312\\Lib\\site-packages\\sklearn\\neighbors\\_classification.py:238: DataConversionWarning: A column-vector y was passed when a 1d array was expected. Please change the shape of y to (n_samples,), for example using ravel().\n",
      "  return self._fit(X, y)\n"
     ]
    }
   ],
   "source": [
    "xsmote_test = test\n",
    "xsmote_train = train\n",
    "ysmote_test = labeltest\n",
    "ysmote_train = labeltrain\n",
    "\n",
    "model = KNeighborsClassifier(n_neighbors=5)\n",
    "model.fit(xsmote_train, ysmote_train)\n",
    "predictions = model.predict(xsmote_test)\n"
   ]
  },
  {
   "cell_type": "code",
   "execution_count": 12,
   "metadata": {},
   "outputs": [
    {
     "name": "stdout",
     "output_type": "stream",
     "text": [
      "Accuracy score: 0.75\n",
      "Classification report:\n",
      "               precision    recall  f1-score   support\n",
      "\n",
      "         1.0       0.85      0.57      0.68        98\n",
      "         2.0       0.70      0.91      0.79       110\n",
      "\n",
      "    accuracy                           0.75       208\n",
      "   macro avg       0.78      0.74      0.74       208\n",
      "weighted avg       0.77      0.75      0.74       208\n",
      "\n"
     ]
    }
   ],
   "source": [
    "print(\"Accuracy score:\",accuracy_score(ysmote_test, predictions))\n",
    "print(\"Classification report:\\n\",classification_report(ysmote_test, predictions)) "
   ]
  }
 ],
 "metadata": {
  "kernelspec": {
   "display_name": "Python 3",
   "language": "python",
   "name": "python3"
  },
  "language_info": {
   "codemirror_mode": {
    "name": "ipython",
    "version": 3
   },
   "file_extension": ".py",
   "mimetype": "text/x-python",
   "name": "python",
   "nbconvert_exporter": "python",
   "pygments_lexer": "ipython3",
   "version": "3.12.1"
  }
 },
 "nbformat": 4,
 "nbformat_minor": 2
}
