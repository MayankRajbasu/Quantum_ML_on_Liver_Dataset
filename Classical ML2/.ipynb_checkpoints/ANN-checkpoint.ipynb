{
 "cells": [
  {
   "cell_type": "code",
   "execution_count": 1,
   "metadata": {},
   "outputs": [],
   "source": [
    "import pandas as pd\n",
    "import numpy as np\n",
    "from sklearn.preprocessing import LabelEncoder\n",
    "from sklearn.neural_network import MLPClassifier\n",
    "\n",
    "\n",
    "from sklearn.svm import SVC\n",
    "from sklearn.model_selection import train_test_split\n",
    "from sklearn.metrics import accuracy_score,classification_report"
   ]
  },
  {
   "cell_type": "code",
   "execution_count": 2,
   "metadata": {},
   "outputs": [],
   "source": [
    "file_path=\"D:/Github_local/Quantum_ML_mini_project/Classical ML/Cleaned_data.csv\"\n",
    "df=pd.read_csv(file_path)"
   ]
  },
  {
   "cell_type": "code",
   "execution_count": 3,
   "metadata": {},
   "outputs": [
    {
     "name": "stdout",
     "output_type": "stream",
     "text": [
      "(437, 10) (146, 10) (437,) (146,)\n"
     ]
    }
   ],
   "source": [
    "#Split the data into predictor variables and target variable, following by breaking them into train and test sets. \n",
    "Y = df['Selector'].values\n",
    "X = df.drop(['Selector'], axis=1).values\n",
    "X_train, X_test, Y_train, Y_test = train_test_split (X, Y, test_size = 0.25)\n",
    "print(X_train.shape, X_test.shape, Y_train.shape, Y_test.shape)"
   ]
  },
  {
   "cell_type": "code",
   "execution_count": 4,
   "metadata": {},
   "outputs": [
    {
     "name": "stdout",
     "output_type": "stream",
     "text": [
      "Accuracy score: 0.684931506849315\n",
      "Classification report:\n",
      "               precision    recall  f1-score   support\n",
      "\n",
      "           1       0.81      0.75      0.78       107\n",
      "           2       0.43      0.51      0.47        39\n",
      "\n",
      "    accuracy                           0.68       146\n",
      "   macro avg       0.62      0.63      0.62       146\n",
      "weighted avg       0.71      0.68      0.69       146\n",
      "\n"
     ]
    }
   ],
   "source": [
    "model = MLPClassifier()\n",
    "model.fit(X_train, Y_train)\n",
    "predictions = model.predict(X_test)\n",
    "\n",
    "print(\"Accuracy score:\",accuracy_score(Y_test, predictions))\n",
    "print(\"Classification report:\\n\",classification_report(Y_test, predictions)) "
   ]
  },
  {
   "cell_type": "markdown",
   "metadata": {},
   "source": [
    "# ANN after PCA"
   ]
  },
  {
   "cell_type": "code",
   "execution_count": 5,
   "metadata": {},
   "outputs": [],
   "source": [
    "file_path=\"D:/Github_local/Quantum_ML_mini_project/EDA/feature_pca.csv\"\n",
    "feature=pd.read_csv(file_path,header=None)"
   ]
  },
  {
   "cell_type": "code",
   "execution_count": 6,
   "metadata": {},
   "outputs": [
    {
     "name": "stdout",
     "output_type": "stream",
     "text": [
      "(437, 7)\n",
      "(146, 7)\n"
     ]
    },
    {
     "name": "stderr",
     "output_type": "stream",
     "text": [
      "c:\\Python312\\Lib\\site-packages\\sklearn\\neural_network\\_multilayer_perceptron.py:691: ConvergenceWarning: Stochastic Optimizer: Maximum iterations (200) reached and the optimization hasn't converged yet.\n",
      "  warnings.warn(\n"
     ]
    }
   ],
   "source": [
    "xpca_train, xpca_test, Y_train, Y_test = train_test_split (feature, Y, test_size = 0.25)\n",
    "\n",
    "print(xpca_train.shape)\n",
    "print(xpca_test.shape)\n",
    "\n",
    "\n",
    "model = MLPClassifier()\n",
    "model.fit(xpca_train, Y_train)\n",
    "predictions = model.predict(xpca_test)\n"
   ]
  },
  {
   "cell_type": "code",
   "execution_count": 7,
   "metadata": {},
   "outputs": [
    {
     "name": "stdout",
     "output_type": "stream",
     "text": [
      "Accuracy score: 0.684931506849315\n",
      "Classification report:\n",
      "               precision    recall  f1-score   support\n",
      "\n",
      "           1       0.74      0.87      0.80       106\n",
      "           2       0.36      0.20      0.26        40\n",
      "\n",
      "    accuracy                           0.68       146\n",
      "   macro avg       0.55      0.53      0.53       146\n",
      "weighted avg       0.64      0.68      0.65       146\n",
      "\n"
     ]
    }
   ],
   "source": [
    "\n",
    "print(\"Accuracy score:\",accuracy_score(Y_test, predictions))\n",
    "print(\"Classification report:\\n\",classification_report(Y_test, predictions)) "
   ]
  },
  {
   "cell_type": "markdown",
   "metadata": {},
   "source": [
    "# ANN after SMOTE"
   ]
  },
  {
   "cell_type": "code",
   "execution_count": 8,
   "metadata": {},
   "outputs": [],
   "source": [
    "file_path=\"D:/Github_local/Quantum_ML_mini_project/EDA/feature_smote_test.csv\"\n",
    "test=pd.read_csv(file_path,header=None)\n",
    "\n",
    "file_path=\"D:/Github_local/Quantum_ML_mini_project/EDA/feature_smote_train.csv\"\n",
    "train=pd.read_csv(file_path,header=None)\n",
    "\n",
    "file_path=\"D:/Github_local/Quantum_ML_mini_project/EDA/label_smote_test.csv\"\n",
    "labeltest=pd.read_csv(file_path,header=None)\n",
    "\n",
    "file_path=\"D:/Github_local/Quantum_ML_mini_project/EDA/label_smote_train.csv\"\n",
    "labeltrain=pd.read_csv(file_path,header=None)"
   ]
  },
  {
   "cell_type": "code",
   "execution_count": 9,
   "metadata": {},
   "outputs": [
    {
     "name": "stderr",
     "output_type": "stream",
     "text": [
      "c:\\Python312\\Lib\\site-packages\\sklearn\\neural_network\\_multilayer_perceptron.py:1101: DataConversionWarning: A column-vector y was passed when a 1d array was expected. Please change the shape of y to (n_samples, ), for example using ravel().\n",
      "  y = column_or_1d(y, warn=True)\n",
      "c:\\Python312\\Lib\\site-packages\\sklearn\\neural_network\\_multilayer_perceptron.py:691: ConvergenceWarning: Stochastic Optimizer: Maximum iterations (200) reached and the optimization hasn't converged yet.\n",
      "  warnings.warn(\n"
     ]
    }
   ],
   "source": [
    "xsmote_test = test\n",
    "xsmote_train = train\n",
    "ysmote_test = labeltest\n",
    "ysmote_train = labeltrain\n",
    "\n",
    "model =MLPClassifier()\n",
    "model.fit(xsmote_train, ysmote_train)\n",
    "predictions = model.predict(xsmote_test)\n"
   ]
  },
  {
   "cell_type": "code",
   "execution_count": 10,
   "metadata": {},
   "outputs": [
    {
     "name": "stdout",
     "output_type": "stream",
     "text": [
      "Accuracy score: 0.7259615384615384\n",
      "Classification report:\n",
      "               precision    recall  f1-score   support\n",
      "\n",
      "         1.0       0.80      0.56      0.66        98\n",
      "         2.0       0.69      0.87      0.77       110\n",
      "\n",
      "    accuracy                           0.73       208\n",
      "   macro avg       0.74      0.72      0.71       208\n",
      "weighted avg       0.74      0.73      0.72       208\n",
      "\n"
     ]
    }
   ],
   "source": [
    "print(\"Accuracy score:\",accuracy_score(ysmote_test, predictions))\n",
    "print(\"Classification report:\\n\",classification_report(ysmote_test, predictions)) "
   ]
  },
  {
   "cell_type": "code",
   "execution_count": 11,
   "metadata": {},
   "outputs": [],
   "source": [
    "import pickle\n",
    "\n",
    "with open(\"ANN_model.pkl\", 'wb') as file:  \n",
    "    pickle.dump(model, file)"
   ]
  }
 ],
 "metadata": {
  "kernelspec": {
   "display_name": "Python 3 (ipykernel)",
   "language": "python",
   "name": "python3"
  },
  "language_info": {
   "codemirror_mode": {
    "name": "ipython",
    "version": 3
   },
   "file_extension": ".py",
   "mimetype": "text/x-python",
   "name": "python",
   "nbconvert_exporter": "python",
   "pygments_lexer": "ipython3",
   "version": "3.12.1"
  }
 },
 "nbformat": 4,
 "nbformat_minor": 4
}
